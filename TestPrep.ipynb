{
 "cells": [
  {
   "cell_type": "code",
   "execution_count": 4,
   "id": "8930fcc2-d1ee-4b4f-a5a2-2a0b405c29e0",
   "metadata": {},
   "outputs": [
    {
     "data": {
      "text/plain": [
       "'\\nTest data preparation\\n'"
      ]
     },
     "execution_count": 4,
     "metadata": {},
     "output_type": "execute_result"
    }
   ],
   "source": [
    "'''\n",
    "Test data preparation\n",
    "'''"
   ]
  },
  {
   "cell_type": "code",
   "execution_count": 5,
   "id": "35d5cb38-a869-478b-b2ed-306b89c51c36",
   "metadata": {},
   "outputs": [
    {
     "name": "stdout",
     "output_type": "stream",
     "text": [
      "1.3.4\n"
     ]
    }
   ],
   "source": [
    "import pandas as pd\n",
    "print(pd.__version__)\n",
    "import os\n",
    "import shutil"
   ]
  },
  {
   "cell_type": "code",
   "execution_count": 6,
   "id": "e59abc7e-ac8e-4e35-9e80-f0ddf2ad1d04",
   "metadata": {},
   "outputs": [],
   "source": [
    "metadata_df = pd.read_csv('./Lego/metadata.csv')"
   ]
  },
  {
   "cell_type": "code",
   "execution_count": 7,
   "id": "578c6d2b-da79-4241-b90f-ffd9e890780a",
   "metadata": {},
   "outputs": [
    {
     "name": "stdout",
     "output_type": "stream",
     "text": [
      "    class_id lego_ids                             lego_names              minifigure_name\n",
      "0          1  [76115]              ['Spider Mech vs. Venom']                   SPIDER-MAN\n",
      "1          2  [76115]              ['Spider Mech vs. Venom']                        VENOM\n",
      "2          3  [76115]              ['Spider Mech vs. Venom']                     AUNT MAY\n",
      "3          4  [76115]              ['Spider Mech vs. Venom']                 GHOST SPIDER\n",
      "4          5  [75208]                         [\"Yoda's Hut\"]                         YODA\n",
      "5          6  [75208]                         [\"Yoda's Hut\"]               LUKE SKYWALKER\n",
      "6          7  [75208]                         [\"Yoda's Hut\"]                        R2-D2\n",
      "7          8  [75199]   [\"General Grievous' Combat Speeder\"]                   MACE WINDU\n",
      "8          9  [75199]   [\"General Grievous' Combat Speeder\"]             GENERAL GRIEVOUS\n",
      "9         10  [75264]    [\"Kylo Ren's Shuttle Microfighter\"]                     KYLO REN\n",
      "10        11  [75254]  [\"AT-ST Raider from The Mandalorian\"]              THE MANDALORIAN\n",
      "11        12  [75254]  [\"AT-ST Raider from The Mandalorian\"]                    CARA DUNE\n",
      "12        13  [75254]  [\"AT-ST Raider from The Mandalorian\"]         KLATOOINIAN RAIDER 1\n",
      "13        14  [75254]  [\"AT-ST Raider from The Mandalorian\"]         KLATOOINIAN RAIDER 2\n",
      "14        15  [76128]                  [\"Molten Man Battle\"]                     MYSTERIO\n",
      "15        16  [76128]                  [\"Molten Man Battle\"]                  FIREFIGHTER\n",
      "16        17  [76128]                  [\"Molten Man Battle\"]                   SPIDER-MAN\n",
      "17        18  [75950]                      [\"Aragog's Lair\"]                 HARRY POTTER\n",
      "18        19  [75950]                      [\"Aragog's Lair\"]                  RON WEASLEY\n",
      "19        20  [76162]     [\"Black Widow's Helicopter Chase\"]                  BLACK WIDOW\n",
      "20        21  [76162]     [\"Black Widow's Helicopter Chase\"]                YELENA BELOVA\n",
      "21        22  [76162]     [\"Black Widow's Helicopter Chase\"]                   TASKMASTER\n",
      "22        23  [76123]  [\"Captain America: Outriders Attack\"]              CAPTAIN AMERICA\n",
      "23        24  [76123]  [\"Captain America: Outriders Attack\"]                   OUTRIDER 1\n",
      "24        25  [76123]  [\"Captain America: Outriders Attack\"]                   OUTRIDER 2\n",
      "25        26  [75926]                   [\"Pteranodon Chase\"]                   OWEN GRADY\n",
      "26        27  [75926]                   [\"Pteranodon Chase\"]  TRACKER TRAQUEUR RASTREADOR\n",
      "27        28  [76125]             [\"Iron Man Hall of Armor\"]                IRON MAN MK 1\n",
      "28        29  [76125]             [\"Iron Man Hall of Armor\"]                IRON MAN MK 5\n",
      "29        30  [76125]             [\"Iron Man Hall of Armor\"]               IRON MAN MK 41\n",
      "30        31  [76125]             [\"Iron Man Hall of Armor\"]               IRON MAN MK 50\n",
      "31        32  [75273]       [\"Poe Dameron's X-wing Fighter\"]                       JANNAH\n",
      "32        33   [7104]                       [\"Desert Skiff\"]                     HAN SOLO\n",
      "33        34  [75183]         [\"Darth Vader Transformation\"]                  DARTH VADER\n",
      "34        35  [75183]         [\"Darth Vader Transformation\"]             ANAKIN SKYWALKER\n",
      "35        36  [75183]         [\"Darth Vader Transformation\"]            EMPEROR PALPATINE\n",
      "36        37  [75269]                   [\"Duel on Mustafar\"]               OBI-WAN KENOBI\n"
     ]
    }
   ],
   "source": [
    "print(metadata_df.to_string())"
   ]
  },
  {
   "cell_type": "code",
   "execution_count": 8,
   "id": "4fe44477-f390-448a-a4be-222e50da9abd",
   "metadata": {},
   "outputs": [],
   "source": [
    "os.makedirs('./Lego/TestData')"
   ]
  },
  {
   "cell_type": "code",
   "execution_count": 10,
   "id": "f7d8bd7f-eda2-4e11-8d3d-520c9f424437",
   "metadata": {},
   "outputs": [],
   "source": [
    "L = metadata_df[\"minifigure_name\"].values"
   ]
  },
  {
   "cell_type": "code",
   "execution_count": 39,
   "id": "aef4dbd1-218b-44ce-9dbc-ea05bc401391",
   "metadata": {},
   "outputs": [
    {
     "name": "stdout",
     "output_type": "stream",
     "text": [
      "{1: 'SPIDER-MAN', 2: 'VENOM', 3: 'AUNT_MAY', 4: 'GHOST_SPIDER', 5: 'YODA', 6: 'LUKE_SKYWALKER', 7: 'R2-D2', 8: 'MACE_WINDU', 9: 'GENERAL_GRIEVOUS', 10: 'KYLO_REN', 11: 'THE_MANDALORIAN', 12: 'CARA_DUNE', 13: 'KLATOOINIAN_RAIDER_1', 14: 'KLATOOINIAN_RAIDER_2', 15: 'MYSTERIO', 16: 'FIREFIGHTER', 17: 'SPIDER-MAN', 18: 'HARRY_POTTER', 19: 'RON_WEASLEY', 20: 'BLACK_WIDOW', 21: 'YELENA_BELOVA', 22: 'TASKMASTER', 23: 'CAPTAIN_AMERICA', 24: 'OUTRIDER_1', 25: 'OUTRIDER_2', 26: 'OWEN_GRADY', 27: 'TRACKER_TRAQUEUR_RASTREADOR', 28: 'IRON_MAN_MK_1', 29: 'IRON_MAN_MK_5', 30: 'IRON_MAN_MK_41', 31: 'IRON_MAN_MK_50', 32: 'JANNAH', 33: 'HAN_SOLO', 34: 'DARTH_VADER', 35: 'ANAKIN_SKYWALKER', 36: 'EMPEROR_PALPATINE', 37: 'OBI-WAN_KENOBI'}\n"
     ]
    }
   ],
   "source": [
    "dir_name = []\n",
    "dir_dict = {}\n",
    "\n",
    "for s in range(len(L)):\n",
    "    name = L[s].replace(\" \", \"_\")\n",
    "    dir_name.append(name)\n",
    "    dir_dict[s+1] = name\n",
    "#print(dir_name)\n",
    "print(dir_dict)"
   ]
  },
  {
   "cell_type": "code",
   "execution_count": 25,
   "id": "6b23bd3f-8b44-4851-a8b9-74368e01765a",
   "metadata": {},
   "outputs": [
    {
     "name": "stdout",
     "output_type": "stream",
     "text": [
      "37\n"
     ]
    },
    {
     "data": {
      "text/plain": [
       "36"
      ]
     },
     "execution_count": 25,
     "metadata": {},
     "output_type": "execute_result"
    }
   ],
   "source": [
    "print(len(dir_name))\n",
    "dirs = set(dir_name)\n",
    "len(dirs)"
   ]
  },
  {
   "cell_type": "code",
   "execution_count": 26,
   "id": "9e77fd8c-3cc1-46cb-9659-aa2c7ee63c57",
   "metadata": {},
   "outputs": [],
   "source": [
    "for d in dirs:\n",
    "    os.makedirs('./Lego/TestData/'+d)"
   ]
  },
  {
   "cell_type": "code",
   "execution_count": 31,
   "id": "279f4e5a-bcd1-47ae-81eb-7030feba9280",
   "metadata": {},
   "outputs": [],
   "source": [
    "test_df = pd.read_csv('./Lego/test.csv')"
   ]
  },
  {
   "cell_type": "code",
   "execution_count": 32,
   "id": "001681de-b7c7-45a8-9064-a6e7fe5576ad",
   "metadata": {},
   "outputs": [
    {
     "name": "stdout",
     "output_type": "stream",
     "text": [
      "            path  class_id\n",
      "0   test/001.jpg        32\n",
      "1   test/002.jpg        32\n",
      "2   test/003.jpg        32\n",
      "3   test/004.jpg        32\n",
      "4   test/005.jpg         1\n",
      "5   test/006.jpg         3\n",
      "6   test/007.jpg         2\n",
      "7   test/008.jpg         4\n",
      "8   test/009.jpg         1\n",
      "9   test/010.jpg         3\n",
      "10  test/011.jpg         4\n",
      "11  test/012.jpg         2\n",
      "12  test/013.jpg         5\n",
      "13  test/014.jpg         6\n",
      "14  test/015.jpg         7\n",
      "15  test/016.jpg         5\n",
      "16  test/017.jpg         6\n",
      "17  test/018.jpg         7\n",
      "18  test/019.jpg        18\n",
      "19  test/020.jpg        18\n",
      "20  test/021.jpg        19\n",
      "21  test/022.jpg        19\n",
      "22  test/023.jpg        26\n",
      "23  test/024.jpg        26\n",
      "24  test/025.jpg        27\n",
      "25  test/026.jpg        27\n",
      "26  test/027.jpg        15\n",
      "27  test/028.jpg        16\n",
      "28  test/029.jpg        17\n",
      "29  test/030.jpg        14\n",
      "30  test/031.jpg        20\n",
      "31  test/032.jpg        20\n",
      "32  test/033.jpg        20\n",
      "33  test/034.jpg        21\n",
      "34  test/035.jpg        21\n",
      "35  test/036.jpg        21\n",
      "36  test/037.jpg        22\n",
      "37  test/038.jpg        22\n",
      "38  test/039.jpg        22\n",
      "39  test/040.jpg        23\n",
      "40  test/041.jpg        23\n",
      "41  test/042.jpg        24\n",
      "42  test/043.jpg        24\n",
      "43  test/044.jpg        25\n",
      "44  test/045.jpg        25\n",
      "45  test/046.jpg        28\n",
      "46  test/047.jpg        28\n",
      "47  test/048.jpg        29\n",
      "48  test/049.jpg        29\n",
      "49  test/050.jpg        30\n",
      "50  test/051.jpg        30\n",
      "51  test/052.jpg        31\n",
      "52  test/053.jpg        31\n",
      "53  test/054.jpg         8\n",
      "54  test/055.jpg         8\n",
      "55  test/056.jpg         9\n",
      "56  test/057.jpg         9\n",
      "57  test/058.jpg        10\n",
      "58  test/059.jpg        10\n",
      "59  test/060.jpg        11\n",
      "60  test/061.jpg        12\n",
      "61  test/062.jpg        13\n",
      "62  test/063.jpg        33\n",
      "63  test/064.jpg        33\n",
      "64  test/065.jpg        34\n",
      "65  test/066.jpg        34\n",
      "66  test/067.jpg        34\n",
      "67  test/068.jpg        35\n",
      "68  test/069.jpg        35\n",
      "69  test/070.jpg        35\n",
      "70  test/071.jpg        36\n",
      "71  test/072.jpg        36\n",
      "72  test/073.jpg        36\n",
      "73  test/074.jpg        37\n",
      "74  test/075.jpg        37\n",
      "75  test/076.jpg        37\n"
     ]
    }
   ],
   "source": [
    "print(test_df.to_string())"
   ]
  },
  {
   "cell_type": "code",
   "execution_count": 40,
   "id": "84f2a216-d103-4e0a-aa2f-7551bb82f539",
   "metadata": {},
   "outputs": [],
   "source": [
    "test_dict = {}\n",
    "paths = test_df[\"path\"].values\n",
    "classes = test_df[\"class_id\"].values\n",
    "\n",
    "for i in range(len(paths)):\n",
    "    shutil.copyfile('./Lego/'+paths[i], './Lego/TestData/'+dir_dict[classes[i]]+'/'+str(i)+'.jpg')\n"
   ]
  },
  {
   "cell_type": "code",
   "execution_count": null,
   "id": "d74aef29-8b31-4113-ad51-408102b9bac7",
   "metadata": {},
   "outputs": [],
   "source": []
  }
 ],
 "metadata": {
  "kernelspec": {
   "display_name": "Python 3 (ipykernel)",
   "language": "python",
   "name": "python3"
  },
  "language_info": {
   "codemirror_mode": {
    "name": "ipython",
    "version": 3
   },
   "file_extension": ".py",
   "mimetype": "text/x-python",
   "name": "python",
   "nbconvert_exporter": "python",
   "pygments_lexer": "ipython3",
   "version": "3.9.7"
  }
 },
 "nbformat": 4,
 "nbformat_minor": 5
}
